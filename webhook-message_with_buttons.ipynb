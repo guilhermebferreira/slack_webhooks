{
 "cells": [
  {
   "cell_type": "markdown",
   "metadata": {},
   "source": [
    "Enviando mensagens para o Slak usando webhooks"
   ]
  },
  {
   "cell_type": "code",
   "execution_count": 1,
   "metadata": {
    "collapsed": true
   },
   "outputs": [],
   "source": [
    "import json\n",
    "import requests\n",
    "import os"
   ]
  },
  {
   "cell_type": "code",
   "execution_count": 2,
   "metadata": {},
   "outputs": [
    {
     "name": "stdout",
     "output_type": "stream",
     "text": [
      "webhook\n"
     ]
    }
   ],
   "source": [
    "with open('webhook.env') as f:\n",
    "    for line in f:\n",
    "        key, value = line.strip().split('=', 1)\n",
    "        os.environ[key] = value\n",
    "        print(key)"
   ]
  },
  {
   "cell_type": "code",
   "execution_count": 11,
   "metadata": {},
   "outputs": [],
   "source": [
    "'''exemplo 1 : retirado da documentação da API'''\n",
    "webhook_url = os.environ['webhook']\n",
    "slack_data = {\n",
    "    'text': \"@guilherme mensagem enviada :slack:\",\n",
    "    'attachments': [\n",
    "        {\n",
    "            \"text\": \"Choose a game to play\",\n",
    "            \"fallback\": \"You are unable to choose a game\",\n",
    "            \"callback_id\": \"wopr_game\",\n",
    "            \"color\": \"#3AA3E3\",\n",
    "            \"attachment_type\": \"default\",\n",
    "            \"actions\": [\n",
    "                {\n",
    "                    \"name\": \"game\",\n",
    "                    \"text\": \"Chess\",\n",
    "                    \"type\": \"button\",\n",
    "                    \"value\": \"chess\"\n",
    "                },\n",
    "                {\n",
    "                    \"name\": \"game\",\n",
    "                    \"text\": \"Falken's Maze\",\n",
    "                    \"type\": \"button\",\n",
    "                    \"value\": \"maze\"\n",
    "                },\n",
    "                {\n",
    "                    \"name\": \"game\",\n",
    "                    \"text\": \"Thermonuclear War\",\n",
    "                    \"style\": \"danger\",\n",
    "                    \"type\": \"button\",\n",
    "                    \"value\": \"war\",\n",
    "                    \"confirm\": {\n",
    "                        \"title\": \"Are you sure?\",\n",
    "                        \"text\": \"Wouldn't you prefer a good game of chess?\",\n",
    "                        \"ok_text\": \"Yes\",\n",
    "                        \"dismiss_text\": \"No\"\n",
    "                    }\n",
    "                }\n",
    "            ]\n",
    "        }\n",
    "    ]\n",
    "}"
   ]
  },
  {
   "cell_type": "code",
   "execution_count": 9,
   "metadata": {
    "collapsed": true
   },
   "outputs": [],
   "source": [
    "webhook_url = os.environ['webhook']\n",
    "slack_data = {\n",
    "    'text': \"@guilherme mensagem enviada :slack:\",\n",
    "    'attachments': [\n",
    "        {\n",
    "            \"text\": \"Clique para ver mais detalhes\",\n",
    "            \"color\": \"#3AA3E3\",\n",
    "            \"attachment_type\": \"default\",\n",
    "            \"actions\": [\n",
    "                {\n",
    "                    \"name\": \"game\",\n",
    "                    \"text\": \"Chess\",\n",
    "                    \"type\": \"button\",\n",
    "                    \"value\": \"chess\"\n",
    "                }\n",
    "            ]\n",
    "        }\n",
    "    ]\n",
    "}"
   ]
  },
  {
   "cell_type": "code",
   "execution_count": 10,
   "metadata": {
    "collapsed": true
   },
   "outputs": [],
   "source": [
    "response = requests.post(\n",
    "    webhook_url, data=json.dumps(slack_data),\n",
    "    headers={'Content-Type': 'application/json'}\n",
    ")\n",
    "if response.status_code != 200:\n",
    "    raise ValueError(\n",
    "        'Request to slack returned an error %s, the response is:\\n%s'\n",
    "        % (response.status_code, response.text)\n",
    "    )"
   ]
  },
  {
   "cell_type": "code",
   "execution_count": null,
   "metadata": {
    "collapsed": true
   },
   "outputs": [],
   "source": []
  },
  {
   "cell_type": "code",
   "execution_count": null,
   "metadata": {
    "collapsed": true
   },
   "outputs": [],
   "source": []
  },
  {
   "cell_type": "code",
   "execution_count": null,
   "metadata": {
    "collapsed": true
   },
   "outputs": [],
   "source": []
  },
  {
   "cell_type": "code",
   "execution_count": null,
   "metadata": {
    "collapsed": true
   },
   "outputs": [],
   "source": [
    "{\n",
    "    \"text\": \"Would you like to play a game?\",\n",
    "    \"attachments\": [\n",
    "        {\n",
    "            \"text\": \"Choose a game to play\",\n",
    "            \"fallback\": \"You are unable to choose a game\",\n",
    "            \"callback_id\": \"wopr_game\",\n",
    "            \"color\": \"#3AA3E3\",\n",
    "            \"attachment_type\": \"default\",\n",
    "            \"actions\": [\n",
    "                {\n",
    "                    \"name\": \"game\",\n",
    "                    \"text\": \"Chess\",\n",
    "                    \"type\": \"button\",\n",
    "                    \"value\": \"chess\"\n",
    "                },\n",
    "                {\n",
    "                    \"name\": \"game\",\n",
    "                    \"text\": \"Falken's Maze\",\n",
    "                    \"type\": \"button\",\n",
    "                    \"value\": \"maze\"\n",
    "                },\n",
    "                {\n",
    "                    \"name\": \"game\",\n",
    "                    \"text\": \"Thermonuclear War\",\n",
    "                    \"style\": \"danger\",\n",
    "                    \"type\": \"button\",\n",
    "                    \"value\": \"war\",\n",
    "                    \"confirm\": {\n",
    "                        \"title\": \"Are you sure?\",\n",
    "                        \"text\": \"Wouldn't you prefer a good game of chess?\",\n",
    "                        \"ok_text\": \"Yes\",\n",
    "                        \"dismiss_text\": \"No\"\n",
    "                    }\n",
    "                }\n",
    "            ]\n",
    "        }\n",
    "    ]\n",
    "}"
   ]
  },
  {
   "cell_type": "code",
   "execution_count": null,
   "metadata": {
    "collapsed": true
   },
   "outputs": [],
   "source": []
  },
  {
   "cell_type": "code",
   "execution_count": null,
   "metadata": {
    "collapsed": true
   },
   "outputs": [],
   "source": []
  },
  {
   "cell_type": "code",
   "execution_count": null,
   "metadata": {
    "collapsed": true
   },
   "outputs": [],
   "source": []
  },
  {
   "cell_type": "code",
   "execution_count": null,
   "metadata": {
    "collapsed": true
   },
   "outputs": [],
   "source": []
  },
  {
   "cell_type": "code",
   "execution_count": null,
   "metadata": {
    "collapsed": true
   },
   "outputs": [],
   "source": []
  },
  {
   "cell_type": "code",
   "execution_count": null,
   "metadata": {
    "collapsed": true
   },
   "outputs": [],
   "source": []
  },
  {
   "cell_type": "code",
   "execution_count": null,
   "metadata": {
    "collapsed": true
   },
   "outputs": [],
   "source": []
  },
  {
   "cell_type": "code",
   "execution_count": null,
   "metadata": {
    "collapsed": true
   },
   "outputs": [],
   "source": []
  }
 ],
 "metadata": {
  "kernelspec": {
   "display_name": "Python 3",
   "language": "python",
   "name": "python3"
  },
  "language_info": {
   "codemirror_mode": {
    "name": "ipython",
    "version": 3
   },
   "file_extension": ".py",
   "mimetype": "text/x-python",
   "name": "python",
   "nbconvert_exporter": "python",
   "pygments_lexer": "ipython3",
   "version": "3.6.3"
  }
 },
 "nbformat": 4,
 "nbformat_minor": 2
}
